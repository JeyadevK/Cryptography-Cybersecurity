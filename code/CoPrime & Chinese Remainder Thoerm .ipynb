{
 "cells": [
  {
   "cell_type": "markdown",
   "id": "847d93de",
   "metadata": {},
   "source": [
    "### 1) Find whether the given pair of number is Coprime(Relative Prime ) or not "
   ]
  },
  {
   "cell_type": "code",
   "execution_count": 1,
   "id": "01cef92e",
   "metadata": {},
   "outputs": [
    {
     "name": "stdout",
     "output_type": "stream",
     "text": [
      "Enter the first number : 42\n",
      "Enter the second number : 35\n",
      "42 , 35 are not relative prime .\n",
      "GCD of 42 , 35 are : 7\n"
     ]
    }
   ],
   "source": [
    "a=int(input(\"Enter the first number : \"));\n",
    "b=int(input(\"Enter the second number : \"));\n",
    "num1=a;\n",
    "num2=b;\n",
    "\n",
    "if(a>b):\n",
    "    while(b!=0):\n",
    "        r=a%b;\n",
    "        a=b;\n",
    "        b=r;\n",
    "elif(b>a):\n",
    "    a,b=b,a;\n",
    "    while(b!=0):\n",
    "        r=a%b;\n",
    "        a=b;\n",
    "        b=r;\n",
    "\n",
    "if(a==1):\n",
    "    print(num1,\",\",num2,\"are relative prime .\");\n",
    "    print(\"GCD of\",num1,\",\",num2,\"are :\",a)\n",
    "else:\n",
    "    print(num1,\",\",num2,\"are not relative prime .\");\n",
    "    print(\"GCD of\",num1,\",\",num2,\"are :\",a)"
   ]
  },
  {
   "cell_type": "markdown",
   "id": "d39b8a70",
   "metadata": {},
   "source": [
    "### 2) Solve the following using Chinese Remainder Theorm "
   ]
  },
  {
   "cell_type": "code",
   "execution_count": 1,
   "id": "8e97dafe",
   "metadata": {},
   "outputs": [
    {
     "name": "stdout",
     "output_type": "stream",
     "text": [
      "Enter no of equations :3\n",
      "Enter the elements of a :\n",
      "1\n",
      "2\n",
      "3\n",
      "Enter the elements of m :\n",
      "3\n",
      "4\n",
      "5\n",
      "The Value of M is : 60\n",
      "The Value of M1,M2,M3 are : [20.0, 15.0, 12.0]\n",
      "Multiplicative Inverses of 20.0 modulo 3 , 15.0 modulo 4 ,12.0 modulo 5 are : [2.0, 3.0, 3.0]\n",
      "The value of X is  58.0\n"
     ]
    }
   ],
   "source": [
    "def Multi_Inv(mo,M):\n",
    "    if(M>mo):\n",
    "        M=M%mo;\n",
    "    a=mo;\n",
    "    b=M;\n",
    "    t1=0;\n",
    "    t2=1;\n",
    "    while(b!=1):\n",
    "        q=a//b;\n",
    "        r=a%b;\n",
    "        t=t1-(t2*q);\n",
    "        a=b;\n",
    "        b=r;\n",
    "        t1=t2;\n",
    "        t2=t;\n",
    "    if(t2<0):\n",
    "        t2=t2+mo;\n",
    "    return t2;\n",
    "    \n",
    "\n",
    "n=int(input(\"Enter no of equations :\"));\n",
    "\n",
    "print(\"Enter the elements of a :\")\n",
    "a=[];\n",
    "for i in range(1,n+1):\n",
    "    elm=int(input());\n",
    "    a.append(elm);\n",
    "\n",
    "print(\"Enter the elements of m :\")\n",
    "m=[];\n",
    "for i in range(1,n+1):\n",
    "    elm=int(input());\n",
    "    m.append(elm);\n",
    "\n",
    "M= m[0] * m[1] *m[2] \n",
    "print(\"The Value of M is :\",M);\n",
    "\n",
    "M0=M/m[0];\n",
    "M1=M/m[1];\n",
    "M2=M/m[2];\n",
    "Mo=[M0,M1,M2];\n",
    "print(\"The Value of M1,M2,M3 are :\",Mo);\n",
    "\n",
    "Mul_Inv=[];\n",
    "for i in range(n):\n",
    "    x=m[i]\n",
    "    y=Mo[i]\n",
    "    Mul_Inv.append(Multi_Inv(x,y));\n",
    "print(\"Multiplicative Inverses of {} modulo {} , {} modulo {} ,{} modulo {} are : {}\"\n",
    "      .format(M0,m[0],M1,m[1],M2,m[2],Mul_Inv));\n",
    "\n",
    "X=0;\n",
    "for i in range (n):\n",
    "    X=X+(a[i]*Mo[i]*Mul_Inv[i]);\n",
    "X=X % M;\n",
    "\n",
    "print(\"The value of X is \",X);"
   ]
  },
  {
   "cell_type": "code",
   "execution_count": null,
   "id": "d84b3d4e",
   "metadata": {},
   "outputs": [],
   "source": []
  }
 ],
 "metadata": {
  "kernelspec": {
   "display_name": "Python 3 (ipykernel)",
   "language": "python",
   "name": "python3"
  },
  "language_info": {
   "codemirror_mode": {
    "name": "ipython",
    "version": 3
   },
   "file_extension": ".py",
   "mimetype": "text/x-python",
   "name": "python",
   "nbconvert_exporter": "python",
   "pygments_lexer": "ipython3",
   "version": "3.11.3"
  }
 },
 "nbformat": 4,
 "nbformat_minor": 5
}
