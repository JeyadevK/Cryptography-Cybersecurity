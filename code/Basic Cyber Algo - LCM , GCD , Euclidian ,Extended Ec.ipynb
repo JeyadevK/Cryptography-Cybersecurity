{
 "cells": [
  {
   "cell_type": "markdown",
   "id": "92a1030e",
   "metadata": {},
   "source": [
    "### LCM"
   ]
  },
  {
   "cell_type": "code",
   "execution_count": 4,
   "id": "5b958b96",
   "metadata": {},
   "outputs": [
    {
     "name": "stdout",
     "output_type": "stream",
     "text": [
      "Enter the first number : 30\n",
      "Enter the second number : 25\n",
      "LCM of two numbers are  30\n"
     ]
    }
   ],
   "source": [
    "a= int (input(\"Enter the first number : \"))\n",
    "b=int(input(\"Enter the second number : \"))\n",
    "\n",
    "if (a>b):\n",
    "    greater=a\n",
    "else :\n",
    "    greater=b\n",
    "while(True):\n",
    "    if((greater%a)==0 & (greater%b)==0):\n",
    "        lcm=greater\n",
    "        break\n",
    "    greater +=1\n",
    "\n",
    "print(\"LCM of two numbers are \",lcm)"
   ]
  },
  {
   "cell_type": "markdown",
   "id": "20cc96aa",
   "metadata": {},
   "source": [
    "### Prime Number "
   ]
  },
  {
   "cell_type": "code",
   "execution_count": 2,
   "id": "58301b23",
   "metadata": {},
   "outputs": [
    {
     "name": "stdout",
     "output_type": "stream",
     "text": [
      "Find the number is prime or not \n",
      "Enter the number that u need to check : 5343\n",
      "5343 is not a prime number\n"
     ]
    }
   ],
   "source": [
    "print(\"Find the number is prime or not \")\n",
    "\n",
    "num= int (input(\"Enter the number that u need to check : \"))\n",
    "\n",
    "if(num==1):\n",
    "    print(num, \"is not a prime number\")\n",
    "elif(num >1):\n",
    "    for i in range ( 2, num ):\n",
    "        if (num %i)==0 :\n",
    "            print(num, \"is not a prime number\")\n",
    "            break\n",
    "    else:\n",
    "        print(num, \"is a prime number\")"
   ]
  },
  {
   "cell_type": "markdown",
   "id": "3189eb1a",
   "metadata": {},
   "source": [
    "### Odd / Even "
   ]
  },
  {
   "cell_type": "code",
   "execution_count": 6,
   "id": "a5b33d0c",
   "metadata": {},
   "outputs": [
    {
     "name": "stdout",
     "output_type": "stream",
     "text": [
      "Enter the number that u need to check : 456566\n",
      "The number  456566  is even\n"
     ]
    }
   ],
   "source": [
    "num= int (input(\"Enter the number that u need to check : \"));\n",
    "\n",
    "if(num%2 == 0):\n",
    "    print(\"The number \",num,\" is even\")\n",
    "else :\n",
    "    print(\"The number \",num,\" is odd\")"
   ]
  },
  {
   "cell_type": "markdown",
   "id": "404f8a27",
   "metadata": {},
   "source": [
    "### HCF"
   ]
  },
  {
   "cell_type": "code",
   "execution_count": 8,
   "id": "c0bfe1f3",
   "metadata": {},
   "outputs": [
    {
     "name": "stdout",
     "output_type": "stream",
     "text": [
      "Enter first number: 54346\n",
      "Enter second number: 544326\n",
      "The HCF of 54346 and 544326 is 2\n"
     ]
    }
   ],
   "source": [
    "def find_hcf(x, y):\n",
    "    while y:\n",
    "        x, y = y, x % y\n",
    "    return x\n",
    "\n",
    "num1 = int(input(\"Enter first number: \"))\n",
    "num2 = int(input(\"Enter second number: \"))\n",
    "\n",
    "hcf = find_hcf(num1, num2)\n",
    "print(f\"The HCF of {num1} and {num2} is {hcf}\")\n"
   ]
  },
  {
   "cell_type": "markdown",
   "id": "2b32f3f8",
   "metadata": {},
   "source": [
    "### Extended Euclidean Algorithm "
   ]
  },
  {
   "cell_type": "code",
   "execution_count": 6,
   "id": "30fa3913",
   "metadata": {},
   "outputs": [
    {
     "name": "stdout",
     "output_type": "stream",
     "text": [
      "Enter the First Number :161\n",
      "Enter the Second Number :28\n",
      "\n",
      "GCD of these two numbers  161  and  28 are  7\n",
      "\n",
      "Verification .... \n",
      "Value of s*a + t*b is  7\n",
      "Verification Successful \n"
     ]
    }
   ],
   "source": [
    "a=int(input(\"Enter the First Number :\"))\n",
    "b=int(input(\"Enter the Second Number :\"))\n",
    "print()\n",
    "x1=a\n",
    "x2=b\n",
    "\n",
    "if(a<b):\n",
    "    (a,b)=(b,a)\n",
    "    \n",
    "s1=1\n",
    "s2=0\n",
    "t1=0\n",
    "t2=1\n",
    "while(b!=0):\n",
    "    q=a//b\n",
    "    r=a%b\n",
    "    s=s1-(s2*q)\n",
    "    t=t1-(t2*q)\n",
    "    a=b\n",
    "    b=r\n",
    "    s1=s2\n",
    "    s2=s\n",
    "    t1=t2\n",
    "    t2=t\n",
    "print(\"GCD of these two numbers \",x1 ,\" and \",x2,\"are \",a)\n",
    "print()    \n",
    "    \n",
    "print(\"Verification .... \")\n",
    "\n",
    "val=(s1*x1)+(t1*x2)\n",
    "print(\"Value of s*a + t*b is \",val)\n",
    "\n",
    "if (a==val):\n",
    "    print(\"Verification Successful \")"
   ]
  },
  {
   "cell_type": "markdown",
   "id": "4df1cae0",
   "metadata": {},
   "source": [
    "### GCD using basic Maths"
   ]
  },
  {
   "cell_type": "code",
   "execution_count": 4,
   "id": "2d6e47b5",
   "metadata": {},
   "outputs": [
    {
     "name": "stdout",
     "output_type": "stream",
     "text": [
      "Enter the First Number :120\n",
      "Enter the Second Number :295\n",
      "GCD of two number  120  and  295  are  5\n"
     ]
    }
   ],
   "source": [
    "a=int(input(\"Enter the First Number :\"))\n",
    "b=int(input(\"Enter the Second Number :\"))\n",
    "\n",
    "x1=a\n",
    "x2=b\n",
    "\n",
    "if(a<b):\n",
    "    (a,b)=(b,a)\n",
    "    \n",
    "if(b==0):\n",
    "    print(\"GCD of two number \",x1,\" and \",x2,\" are \",a)\n",
    "\n",
    "else:\n",
    "    while(b!=0):\n",
    "        a,b=b,a%b\n",
    "    print(\"GCD of two number \",x1,\" and \",x2,\" are \",a)\n",
    "    \n",
    "\n"
   ]
  },
  {
   "cell_type": "markdown",
   "id": "708ca6cb",
   "metadata": {},
   "source": [
    "### Euclidean Tabulation Method "
   ]
  },
  {
   "cell_type": "code",
   "execution_count": 9,
   "id": "c40ed434",
   "metadata": {},
   "outputs": [
    {
     "name": "stdout",
     "output_type": "stream",
     "text": [
      "Enter the first number : 345\n",
      "Enter the second number : 670\n",
      "GCD of 345 , 670 are : 5\n"
     ]
    }
   ],
   "source": [
    "a=int(input(\"Enter the first number : \"));\n",
    "b=int(input(\"Enter the second number : \"));\n",
    "num1=a;\n",
    "num2=b;\n",
    "\n",
    "if(a>b):\n",
    "    while(b!=0):\n",
    "        r=a%b;\n",
    "        a=b;\n",
    "        b=r;\n",
    "elif(b>a):\n",
    "    a,b=b,a;\n",
    "    while(b!=0):\n",
    "        r=a%b;\n",
    "        a=b;\n",
    "        b=r;\n",
    "\n",
    "if(a==1):\n",
    "    print(num1,\",\",num2,\"are relative prime .\");\n",
    "    print(\"GCD of\",num1,\",\",num2,\"are :\",a)\n",
    "else:\n",
    "    print(\"GCD of\",num1,\",\",num2,\"are :\",a)"
   ]
  },
  {
   "cell_type": "markdown",
   "id": "fa7dbe37",
   "metadata": {},
   "source": [
    "### Euclidean Algorithm"
   ]
  },
  {
   "cell_type": "code",
   "execution_count": 4,
   "id": "0b45acad",
   "metadata": {},
   "outputs": [
    {
     "name": "stdout",
     "output_type": "stream",
     "text": [
      "Enter the first number : 710\n",
      "Enter the second number : 310\n",
      "The GCD of 710 and 310 are 10 \n"
     ]
    }
   ],
   "source": [
    "def GCD(a,b):\n",
    "    if(b==0):\n",
    "        return a\n",
    "    return GCD(b,a%b)\n",
    "\n",
    "a=int(input(\"Enter the first number : \"));\n",
    "b=int(input(\"Enter the second number : \"));\n",
    "gcd=GCD(a,b)\n",
    "print(f\"The GCD of {a} and {b} are {gcd} \")"
   ]
  },
  {
   "cell_type": "markdown",
   "id": "dd501823",
   "metadata": {},
   "source": [
    "### GCD using Division Algorithm "
   ]
  },
  {
   "cell_type": "code",
   "execution_count": 3,
   "id": "f0c728d7",
   "metadata": {},
   "outputs": [
    {
     "name": "stdout",
     "output_type": "stream",
     "text": [
      "Enter the first number : 295\n",
      "Enter the second number : 120\n",
      "295  =  120  *  2  +  55\n",
      "120  =  55  *  2  +  10\n",
      "55  =  10  *  5  +  5\n",
      "10  =  5  *  2  +  0\n",
      "GCD of 295 , 120 are : 5\n"
     ]
    }
   ],
   "source": [
    "a=int(input(\"Enter the first number : \"));\n",
    "b=int(input(\"Enter the second number : \"));\n",
    "num1=a;\n",
    "num2=b;\n",
    "\n",
    "if(a<b):\n",
    "    (a,b)=(b,a)\n",
    "\n",
    "\n",
    "while(b!=0):\n",
    "    q=a//b\n",
    "    r=a%b\n",
    "    print(a,\" = \",b,\" * \",q,\" + \",r)\n",
    "    a=b\n",
    "    b=r\n",
    "    \n",
    "print(\"GCD of\",num1,\",\",num2,\"are :\",a)"
   ]
  },
  {
   "cell_type": "code",
   "execution_count": null,
   "id": "0291043c",
   "metadata": {},
   "outputs": [],
   "source": []
  }
 ],
 "metadata": {
  "kernelspec": {
   "display_name": "Python 3 (ipykernel)",
   "language": "python",
   "name": "python3"
  },
  "language_info": {
   "codemirror_mode": {
    "name": "ipython",
    "version": 3
   },
   "file_extension": ".py",
   "mimetype": "text/x-python",
   "name": "python",
   "nbconvert_exporter": "python",
   "pygments_lexer": "ipython3",
   "version": "3.11.3"
  }
 },
 "nbformat": 4,
 "nbformat_minor": 5
}
