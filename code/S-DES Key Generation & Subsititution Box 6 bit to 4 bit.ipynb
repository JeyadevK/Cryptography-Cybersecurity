{
 "cells": [
  {
   "cell_type": "markdown",
   "id": "28630bc5",
   "metadata": {},
   "source": [
    "### 1) Generating Key 1 and 2 using 10 bit input Key"
   ]
  },
  {
   "cell_type": "code",
   "execution_count": 1,
   "id": "6859d34d",
   "metadata": {},
   "outputs": [
    {
     "name": "stdout",
     "output_type": "stream",
     "text": [
      "Enter the Key (Should be only in binary ) :\n",
      "1\n",
      "1\n",
      "0\n",
      "0\n",
      "0\n",
      "1\n",
      "1\n",
      "1\n",
      "1\n",
      "0\n",
      "The 10-bit input Key is : [1, 1, 0, 0, 0, 1, 1, 1, 1, 0]\n",
      "After generating \n",
      "The 8-bit Key 1 is :  [1, 1, 1, 0, 1, 0, 0, 1]\n",
      "The 8-bit Key 2 is :  [1, 0, 1, 0, 0, 1, 1, 1]\n"
     ]
    }
   ],
   "source": [
    "key=[]\n",
    "print(\"Enter the Key (Should be only in binary ) :\")\n",
    "for i in range(0,10):\n",
    "    bits=int(input())\n",
    "    key.append(bits)\n",
    "print(\"The 10-bit input Key is :\",key)\n",
    "P10=[2,4,1,8,3,9,0,8,7,5];\n",
    "P8=[5,2,6,3,7,4,9,8];\n",
    "P10_key = [key[i] for i in P10]\n",
    "part1=P10_key[:5]\n",
    "part2=P10_key[5:]\n",
    "pos1=1;\n",
    "pos2=2;\n",
    "part_1 = part1[pos1:] + part1[:pos1]\n",
    "part_2 = part2[pos1:] + part2[:pos1]\n",
    "Ls_1 = part_1 + part_2\n",
    "Key1=[Ls_1[i] for i in P8]\n",
    "part__1= part_1[pos2:] + part_1[:pos2]\n",
    "part__2= part_2[pos2:] + part_2[:pos2]\n",
    "Ls_2 = part__1 + part__2 \n",
    "Key2=[Ls_2[i] for i in P8]\n",
    "\n",
    "print(\"After generating \")\n",
    "print(\"The 8-bit Key 1 is : \" ,Key1)\n",
    "print(\"The 8-bit Key 2 is : \" ,Key2)"
   ]
  },
  {
   "cell_type": "markdown",
   "id": "9d2dec6a",
   "metadata": {},
   "source": [
    "### 2) Converting 6 bit input as 4 bit in Substitution "
   ]
  },
  {
   "cell_type": "code",
   "execution_count": 4,
   "id": "977fb9bc",
   "metadata": {},
   "outputs": [
    {
     "name": "stdout",
     "output_type": "stream",
     "text": [
      "Enter the 6-bit Binary input : \n",
      "1\n",
      "0\n",
      "1\n",
      "0\n",
      "1\n",
      "0\n",
      "Row and Column starts from 0 \n",
      "Row is : 2\n",
      "Column is : 5\n",
      "The output from S1 Box is : 6\n",
      "The 4-bit format of S1 Box output is : 0110\n"
     ]
    }
   ],
   "source": [
    "digit=[]\n",
    "print(\"Enter the 6-bit Binary input : \")\n",
    "for i in range(0,6):\n",
    "    num=int(input())\n",
    "    digit.append(num)\n",
    "S1_box = [[14,4,13,1,2,15,11,8,3,10,6,12,5,9,0,7],\n",
    "          [0,15,7,4,14,2,13,1,10,6,12,11,6,5,3,8],\n",
    "          [4,1,14,8,13,6,2,11,15,12,9,7,3,10,5,0],\n",
    "          [15,12,8,2,4,9,1,7,5,11,3,14,10,0,6,13]]\n",
    "part1 = [digit[0], digit[5]]\n",
    "part2 = digit[1:5]\n",
    "String1 = \"\".join(str(x) for x in part1)\n",
    "String2 = \"\".join(str(x) for x in part2)\n",
    "row = int(String1,2)\n",
    "column = int(String2,2)\n",
    "output=S1_box[row][column]\n",
    "bin_output=bin(output)[2:]\n",
    "print(\"Row and Column starts from 0 \")\n",
    "print(\"Row is :\",row)\n",
    "print(\"Column is :\",column)\n",
    "print(\"The output from S1 Box is :\" ,output)\n",
    "if(len(bin_output)==3):\n",
    "    print(\"The 4-bit format of S1 Box output is :\",'0'+bin_output)\n",
    "elif(len(bin_output)==2):\n",
    "    print(\"The 4-bit format of S1 Box output is :\",'00'+bin_output)\n",
    "elif(len(bin_output)==1):\n",
    "    print(\"The 4-bit format of S1 Box output is :\",'000'+bin_output)\n",
    "else:\n",
    "    print(\"The 4-bit format of S1 Box output is :\",bin_output)\n",
    "    "
   ]
  },
  {
   "cell_type": "markdown",
   "id": "ff60532c",
   "metadata": {},
   "source": [
    "# "
   ]
  }
 ],
 "metadata": {
  "kernelspec": {
   "display_name": "Python 3 (ipykernel)",
   "language": "python",
   "name": "python3"
  },
  "language_info": {
   "codemirror_mode": {
    "name": "ipython",
    "version": 3
   },
   "file_extension": ".py",
   "mimetype": "text/x-python",
   "name": "python",
   "nbconvert_exporter": "python",
   "pygments_lexer": "ipython3",
   "version": "3.11.3"
  }
 },
 "nbformat": 4,
 "nbformat_minor": 5
}
