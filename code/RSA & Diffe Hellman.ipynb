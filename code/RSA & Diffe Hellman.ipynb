{
 "cells": [
  {
   "cell_type": "markdown",
   "id": "813e91fb",
   "metadata": {},
   "source": [
    "### 1) Key Generation , Encryption & Decryption using RSA Algrithm "
   ]
  },
  {
   "cell_type": "code",
   "execution_count": 16,
   "id": "da0d4c28",
   "metadata": {},
   "outputs": [
    {
     "name": "stdout",
     "output_type": "stream",
     "text": [
      "The value for P (it must prime): 17\n",
      "The value for q (it must prime and != p): 31\n",
      "The value of n is :  527\n",
      "The value of o(n) is  480\n",
      "The value for e (gcd(o(n),e)=1) :7\n",
      "The value of d is :  343\n",
      "\n",
      "Key Generation :\n",
      "The public key is [ 7,527 ] \n",
      "The private key is [ 343,527 ] \n",
      "\n",
      "Encryption :\n",
      "Enter the value of M (it must M<n)2\n",
      "The Ciper Text is :  128\n",
      "\n",
      "Decryption :\n",
      "The Plain Text is :  2\n"
     ]
    }
   ],
   "source": [
    "p=int(input(\"The value for P (it must prime): \"))\n",
    "q=int(input(\"The value for q (it must prime and != p): \"))\n",
    "n=p*q\n",
    "print(\"The value of n is : \",n)\n",
    "o_n=(p-1)*(q-1)\n",
    "print(\"The value of o(n) is \",o_n)\n",
    "e=int(input(\"The value for e (gcd(o(n),e)=1) :\"))\n",
    "\n",
    "def Multi_Inv(o_n,e):\n",
    "    if(e>o_n):\n",
    "        e=e%o_n;\n",
    "    a=o_n;\n",
    "    b=e;\n",
    "    t0=0;\n",
    "    t1=1;\n",
    "    while(b!=1):\n",
    "        q=a//b;\n",
    "        r=a%b;\n",
    "        t=t0-(t1*q);\n",
    "        a=b;\n",
    "        b=r;\n",
    "        t0=t1;\n",
    "        t1=t;\n",
    "    if(t1<0):\n",
    "        t1+=o_n;\n",
    "    return t1;\n",
    "        \n",
    "d=Multi_Inv(o_n,e)   \n",
    "print(\"The value of d is : \",d)\n",
    "\n",
    "print()\n",
    "print(\"Key Generation :\")\n",
    "print(\"The public key is [ {},{} ] \" .format(e,n))\n",
    "print(\"The private key is [ {},{} ] \" .format(d,n))\n",
    "\n",
    "print()\n",
    "print(\"Encryption :\")\n",
    "M=int(input(\"Enter the value of M (it must M<n)\"))\n",
    "\n",
    "if(M>n):\n",
    "    print(\"The value of M is greater than n, Encryption is not possible \")\n",
    "else :\n",
    "    C=(M**e)%n\n",
    "    print(\"The Ciper Text is : \",C)\n",
    "    \n",
    "print()\n",
    "print(\"Decryption :\")\n",
    "\n",
    "M=(C**d)%n\n",
    "print(\"The Plain Text is : \",M)\n"
   ]
  },
  {
   "cell_type": "markdown",
   "id": "18b0e4ce",
   "metadata": {},
   "source": [
    "### 2) Key Exhange using Diffie - Hellman "
   ]
  },
  {
   "cell_type": "code",
   "execution_count": 20,
   "id": "1276ba11",
   "metadata": {
    "scrolled": true
   },
   "outputs": [
    {
     "name": "stdout",
     "output_type": "stream",
     "text": [
      "The value of q is (prime number) : 353\n",
      "The value of a is (primitive root of q) : 3\n",
      "\n",
      "User A Key Generation :\n",
      "The private Key of A is (Xa < q) : 97\n",
      "The public Key of A is :  40\n",
      "\n",
      "User B Key Generation :\n",
      "The private Key ofBA is (Xb < q) : 233\n",
      "The public Key of B is :  248\n",
      "\n",
      "Calculation of Secret Key by User A :\n",
      "Key A is :  160\n",
      "\n",
      "Calculation of Secret Key by User A :\n",
      "Key B is :  160\n",
      "\n",
      "Therefore Key A is equal to Key B \n",
      "The Key Exchanged Successfully \n"
     ]
    }
   ],
   "source": [
    "q=int(input(\"The value of q is (prime number) : \"))\n",
    "a=int(input(\"The value of a is (primitive root of q) : \"))\n",
    "\n",
    "print()\n",
    "print(\"User A Key Generation :\")\n",
    "Xa=int(input(\"The private Key of A is (Xa < q) : \"))\n",
    "Ya=(a**Xa)%q\n",
    "print(\"The public Key of A is : \",Ya)\n",
    "\n",
    "print()\n",
    "print(\"User B Key Generation :\")\n",
    "Xb=int(input(\"The private Key ofBA is (Xb < q) : \"))\n",
    "Yb=(a**Xb)%q\n",
    "print(\"The public Key of B is : \",Yb)\n",
    "\n",
    "print()\n",
    "print(\"Calculation of Secret Key by User A :\")\n",
    "Ka=(Yb**Xa)%q\n",
    "print(\"Key A is : \",Ka)\n",
    "\n",
    "print()\n",
    "print(\"Calculation of Secret Key by User B :\")\n",
    "Kb=(Ya**Xb)%q\n",
    "print(\"Key B is : \",Kb)\n",
    "\n",
    "print()\n",
    "if(Ka==Kb):\n",
    "    print(\"Therefore Key A is equal to Key B \")\n",
    "    print(\"The Key Exchanged Successfully \")\n",
    "else:\n",
    "    print(\"Exchange got Unsuccessful\")"
   ]
  },
  {
   "cell_type": "code",
   "execution_count": null,
   "id": "6af51910",
   "metadata": {},
   "outputs": [],
   "source": []
  }
 ],
 "metadata": {
  "kernelspec": {
   "display_name": "Python 3 (ipykernel)",
   "language": "python",
   "name": "python3"
  },
  "language_info": {
   "codemirror_mode": {
    "name": "ipython",
    "version": 3
   },
   "file_extension": ".py",
   "mimetype": "text/x-python",
   "name": "python",
   "nbconvert_exporter": "python",
   "pygments_lexer": "ipython3",
   "version": "3.11.3"
  }
 },
 "nbformat": 4,
 "nbformat_minor": 5
}
