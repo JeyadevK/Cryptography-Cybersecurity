{
 "cells": [
  {
   "cell_type": "markdown",
   "id": "e452a27b",
   "metadata": {},
   "source": [
    "### Euler Function "
   ]
  },
  {
   "cell_type": "code",
   "execution_count": 5,
   "id": "6a5d915c",
   "metadata": {},
   "outputs": [
    {
     "name": "stdout",
     "output_type": "stream",
     "text": [
      "Enter a number to find the number of coprimes within that number: 35\n",
      "Number of coprimes within 35: 24\n"
     ]
    }
   ],
   "source": [
    "def euler_totient(num):\n",
    "    if num == 1:\n",
    "        return 1\n",
    "    \n",
    "    O_n = num\n",
    "    factors = set()\n",
    "    \n",
    "    while num % 2 == 0:\n",
    "        factors.add(2)\n",
    "        num //= 2\n",
    "\n",
    "    for i in range(3, int(num ** 0.5) + 1, 2):\n",
    "        while num % i == 0:\n",
    "            factors.add(i)\n",
    "            num //= i\n",
    "\n",
    "    if num > 2:\n",
    "        factors.add(num)\n",
    "    \n",
    "    for p in factors:\n",
    "        O_n *= (1 - 1/p)\n",
    "    \n",
    "    return int(O_n)\n",
    "\n",
    "num = int(input(\"Enter a number to find the number of coprimes within that number: \"))\n",
    "result = euler_totient(num)\n",
    "print(f\"Number of coprimes within {num}: {result}\")\n"
   ]
  },
  {
   "cell_type": "markdown",
   "id": "19344b71",
   "metadata": {},
   "source": [
    "### Little Fermat's Thoerm "
   ]
  },
  {
   "cell_type": "code",
   "execution_count": 5,
   "id": "da4b8a8c",
   "metadata": {},
   "outputs": [
    {
     "name": "stdout",
     "output_type": "stream",
     "text": [
      "Enter a value for a : 3\n",
      "Enter a value for p : 139\n",
      "3^138 ≡ 1 (mod 139)\n",
      "3^138 mod 139 = 1\n"
     ]
    }
   ],
   "source": [
    "def power_mod(base, exp, mod):\n",
    "    result = 1\n",
    "    base = base % mod\n",
    "    while exp > 0:\n",
    "        if exp % 2 == 1:\n",
    "            result = (result * base) % mod\n",
    "        exp = exp >> 1  # Divide exp by 2\n",
    "        base = (base * base) % mod\n",
    "    return result\n",
    "\n",
    "def fermat_little_theorem_modulus(a, p):   \n",
    "    if p <= 1 or a <= 0:\n",
    "        return None\n",
    "    if a >= p:\n",
    "        a = a % p  \n",
    "    return power_mod(a, p-1, p)\n",
    "\n",
    "\n",
    "a=int(input(\"Enter a value for a : \"))\n",
    "p=int(input(\"Enter a value for p : \"))\n",
    "\n",
    "result = fermat_little_theorem_modulus(a, p)\n",
    "print(f\"{a}^{p-1} ≡ {result} (mod {p})\")\n",
    "print(f\"{a}^{p-1} mod {p} = {result}\")"
   ]
  },
  {
   "cell_type": "markdown",
   "id": "949ba2a9",
   "metadata": {},
   "source": [
    "### Miller-Rabin Primality Testing "
   ]
  },
  {
   "cell_type": "code",
   "execution_count": 1,
   "id": "c68e57f8",
   "metadata": {},
   "outputs": [
    {
     "name": "stdout",
     "output_type": "stream",
     "text": [
      "Enter a number: 5\n",
      "5 is composite.\n"
     ]
    }
   ],
   "source": [
    "import random\n",
    "\n",
    "def is_prime(n, k=5):\n",
    "    if n in (2, 3): \n",
    "        return True\n",
    "    if n < 2 or n % 2 == 0: \n",
    "        return False\n",
    "    d, r = n - 1, 0\n",
    "    while d % 2 == 0: \n",
    "        d, r = d // 2, r + 1\n",
    "    for _ in range(k):\n",
    "        a = random.randint(2, n - 2)\n",
    "        x = pow(a, d, n)\n",
    "        if x in (1, n - 1):\n",
    "            continue\n",
    "        if all(pow(x, 2 ** i, n) != n - 1 for i in range(r - 1)): \n",
    "            return False\n",
    "    return True\n",
    "\n",
    "print(f\"{(n := int(input('Enter a number: ')))} is {'probably prime' if is_prime(n) else 'composite'}.\")\n"
   ]
  },
  {
   "cell_type": "markdown",
   "id": "d5c45885",
   "metadata": {},
   "source": [
    "### Playfair Cipher"
   ]
  },
  {
   "cell_type": "code",
   "execution_count": 4,
   "id": "5f95b176",
   "metadata": {},
   "outputs": [
    {
     "name": "stdout",
     "output_type": "stream",
     "text": [
      "Playfair Encrypted text: ilgdvfdncsbu\n"
     ]
    }
   ],
   "source": [
    "def playfair_encrypt(text, key):\n",
    "    key = \"\".join(dict.fromkeys(key.replace('j', 'i') + \"abcdefghiklmnopqrstuvwxyz\"))\n",
    "    matrix = [key[i:i+5] for i in range(0, 25, 5)]\n",
    "    text = text.replace('j', 'i').replace(' ', '').lower()\n",
    "    text += 'x' if len(text) % 2 else ''\n",
    "    text = [text[i] + ('x' if text[i] == text[i+1] else text[i+1]) for i in range(0, len(text), 2)]\n",
    "\n",
    "    def pos(c):\n",
    "        return divmod(key.index(c), 5)\n",
    "    res = \"\"\n",
    "    for a, b in text:\n",
    "        r1, c1 = pos(a)\n",
    "        r2, c2 = pos(b)\n",
    "        if r1 == r2:\n",
    "            res += matrix[r1][(c1+1)%5] + matrix[r2][(c2+1)%5]\n",
    "        elif c1 == c2: \n",
    "            res += matrix[(r1+1)%5][c1] + matrix[(r2+1)%5][c2]\n",
    "        else: \n",
    "            res += matrix[r1][c2] + matrix[r2][c1]\n",
    "    return res\n",
    "\n",
    "print(f\"Playfair Encrypted text: {playfair_encrypt('hide the gold', 'keyword')}\")\n"
   ]
  },
  {
   "cell_type": "markdown",
   "id": "7c85eaa9",
   "metadata": {},
   "source": [
    "### Vigenère Cipher"
   ]
  },
  {
   "cell_type": "code",
   "execution_count": 2,
   "id": "9aaddd70",
   "metadata": {},
   "outputs": [
    {
     "name": "stdout",
     "output_type": "stream",
     "text": [
      "Vigenère Encrypted text: pzpp mqd fd yieiaysy\n"
     ]
    }
   ],
   "source": [
    "def vigenere_encrypt(plaintext, key):\n",
    "    key = key.lower()\n",
    "    plaintext = plaintext.lower()\n",
    "    ciphertext = []\n",
    "    key_index = 0\n",
    "    \n",
    "    for char in plaintext:\n",
    "        if char.isalpha():\n",
    "            shift = ord(key[key_index % len(key)]) - ord('a')\n",
    "            encrypted_char = chr((ord(char) - ord('a') + shift) % 26 + ord('a'))\n",
    "            ciphertext.append(encrypted_char)\n",
    "            key_index += 1\n",
    "        else:\n",
    "            ciphertext.append(char) \n",
    "\n",
    "    return ''.join(ciphertext)\n",
    "\n",
    "plaintext = \"kill him by headshot\"\n",
    "key = \"freefire\"\n",
    "ciphertext = vigenere_encrypt(plaintext, key)\n",
    "print(f\"Vigenère Encrypted text: {ciphertext}\")\n"
   ]
  },
  {
   "cell_type": "markdown",
   "id": "b4bb2826",
   "metadata": {},
   "source": [
    "### Caesar Cipher"
   ]
  },
  {
   "cell_type": "code",
   "execution_count": 9,
   "id": "2a9089aa",
   "metadata": {},
   "outputs": [
    {
     "name": "stdout",
     "output_type": "stream",
     "text": [
      "Caesar Encrypted text: fxosulw lq kloo\n"
     ]
    }
   ],
   "source": [
    "def caesar_encrypt(plaintext, shift):\n",
    "    ciphertext = []\n",
    "    \n",
    "    for char in plaintext:\n",
    "        if char.isalpha():\n",
    "            shifted_char = chr((ord(char.lower()) - ord('a') + shift) % 26 + ord('a'))\n",
    "            ciphertext.append(shifted_char)\n",
    "        else:\n",
    "            ciphertext.append(char)  \n",
    "    \n",
    "    return ''.join(ciphertext)\n",
    "\n",
    "\n",
    "plaintext = \"Culprit in hill\"\n",
    "shift = 3  \n",
    "ciphertext = caesar_encrypt(plaintext, shift)\n",
    "print(f\"Caesar Encrypted text: {ciphertext}\")\n"
   ]
  },
  {
   "cell_type": "code",
   "execution_count": null,
   "id": "36bc23a4",
   "metadata": {},
   "outputs": [],
   "source": []
  }
 ],
 "metadata": {
  "kernelspec": {
   "display_name": "Python 3 (ipykernel)",
   "language": "python",
   "name": "python3"
  },
  "language_info": {
   "codemirror_mode": {
    "name": "ipython",
    "version": 3
   },
   "file_extension": ".py",
   "mimetype": "text/x-python",
   "name": "python",
   "nbconvert_exporter": "python",
   "pygments_lexer": "ipython3",
   "version": "3.11.3"
  }
 },
 "nbformat": 4,
 "nbformat_minor": 5
}
